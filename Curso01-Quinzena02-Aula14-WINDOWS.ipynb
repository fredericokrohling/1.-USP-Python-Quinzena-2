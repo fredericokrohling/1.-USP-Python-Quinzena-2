{
 "cells": [
  {
   "cell_type": "markdown",
   "id": "48cbee35",
   "metadata": {
    "id": "48cbee35"
   },
   "source": [
    "# <font color=\"red\"> MBA em IA e Big Data</font>\n",
    "## <span style=\"color:red\">Linguagens e Ferramentas para Inteligência Artificial e Big Data (Python e SQL)</span>\n",
    "\n",
    "### <span style=\"color:darkred\">Importando e processando dados do Oracle via Python</span>\n",
    "\n",
    "*Jose Fernando Rodrigues Junior*<br>\n",
    "*ICMC/USP São Carlos*"
   ]
  },
  {
   "cell_type": "markdown",
   "id": "b8768d12",
   "metadata": {
    "id": "b8768d12"
   },
   "source": [
    "Obs.: este notebook depende de softwares muito específicos que não funcionam em plataformas de cloud, como o Google Colab. Por esta razão, é preciso executá-lo localmente em sua máquina.\n",
    "\n",
    "Devido à complexidade para se reproduzir este notebook, sua reprodução fica como ativididade OPCIONAL, recomendada apenas a usuários avançados.\n",
    "\n",
    "# Instalação Windows - PARTE 1 - Anaconda com Jupyter Notebook\n",
    "\n",
    "* 1) instale o software Anaconda3 (https://www.anaconda.com/) para ter funcionalidades python e notebooks via jupyter\n",
    "* 2) copie este notebook (arquivo .ipynb) para o diretório c:\\users\\seu_nome_de_usuario\n",
    "* 3) no menu Iniciar, procure por Jupyter Notebook, e execute\n",
    "* 4) uma página web se abrirá, clique no arquivo deste notebook\n",
    " \n"
   ]
  },
  {
   "cell_type": "markdown",
   "id": "HbbAAsTsOZbg",
   "metadata": {
    "id": "HbbAAsTsOZbg"
   },
   "source": [
    "# Instalação Windows - PARTE 2 - PREPARAÇÃO ORACLE\n",
    "* 0) Oracle via VPN: https://shorturl.at/cnwW2\n",
    "* 1) na linha de comando (cmd), execute: conda install -c anaconda cx_oracle\n",
    "* 2) Instalar bibliotecas do MS Visual Studio https://aka.ms/vs/16/release/vc_redist.x64.exe - instalacao direta, sem entraves\n",
    "* 3) Download do instant client https://download.oracle.com/otn_software/nt/instantclient/1911000/instantclient-basiclite-windows.x64-19.11.0.0.0dbru.zip\n",
    "* 4) Descompactar o .zip para o diretório c:\\temp (ou outro diretório fácil de lembrar) de modo que o caminho c:\\temp\\instantclient_19_11 seja válido\n",
    "* 5) Execute os seguintes comandos no Notebook\n",
    "* os.environ[\"PATH\"] =r\"C:\\temp\\instantclient_19_11\" + \";\" + os.environ[\"PATH\"]\n",
    "* cx_Oracle.init_oracle_client(lib_dir=r\"C:\\temp\\instantclient_19_11\")\n",
    "* ATENCAO1: atencao à sintaxe lib_dir=r\"C:\\temp\\instantclient_19_11\", com \"r\" antes do caminho\n",
    "* ATENCAO2: eu testei com o diretório c:\\temp, substitua por seu diretório\n",
    "* ATENCAO3: funciona com python 3"
   ]
  },
  {
   "cell_type": "code",
   "execution_count": 1,
   "id": "f0c2cc25",
   "metadata": {
    "colab": {
     "base_uri": "https://localhost:8080/"
    },
    "executionInfo": {
     "elapsed": 1118,
     "status": "error",
     "timestamp": 1656014568840,
     "user": {
      "displayName": "José Fernando Rodrigues Junior",
      "userId": "16173600431460248690"
     },
     "user_tz": 180
    },
    "id": "f0c2cc25",
    "outputId": "c82441be-55bc-4053-cc80-f2c9afc57f11"
   },
   "outputs": [],
   "source": [
    "import cx_Oracle #documentacao https://cx-oracle.readthedocs.io/en/latest/user_guide/introduction.html\n",
    "import pandas as pd\n",
    "import sqlalchemy\n",
    "import os"
   ]
  },
  {
   "cell_type": "markdown",
   "id": "98f93807",
   "metadata": {
    "id": "98f93807"
   },
   "source": [
    "* O `cx_Oracle` é um módulo de extensão Python que permite acesso ao banco de dados Oracle; o cx_Oracle está, parcialmente, em conformidade com a especificação da `DB-API 2.0` para banco de dados por meio de Python;\n",
    "* A python DB-API é uma especificação para uma interface comum para bancos de dados relacionais definida no documento `Python Enhancement Proposal 249` (https://www.python.org/dev/peps/pep-0249/);\n",
    "* `SQLAlchemy` é um módulo Python com dois objetivos:\n",
    "    * Kit de ferramentas Python-SQL: oferece funcionalidades flexíveis para uso simplificado e abstrato de SQL;\n",
    "    * Mapeador Relacional de Objetos: uma técnica de mapeamento objeto relacional que permite fazer uma relação dos objetos programados com os dados relacionais que os mesmos representams."
   ]
  },
  {
   "cell_type": "code",
   "execution_count": 2,
   "id": "76d20d3d",
   "metadata": {
    "id": "76d20d3d",
    "outputId": "6c968fcd-9a63-4829-bc6d-92aa8c24dcb7"
   },
   "outputs": [],
   "source": [
    "os.environ[\"PATH\"] =r\"C:\\temp\\instantclient_19_11\" + \";\" + os.environ[\"PATH\"]\n",
    "try:\n",
    "    cx_Oracle.init_oracle_client(lib_dir=r\"C:\\temp\\instantclient_19_11\")\n",
    "except Exception as e:\n",
    "    print(str(e))"
   ]
  },
  {
   "cell_type": "code",
   "execution_count": 7,
   "id": "4ced2684",
   "metadata": {
    "id": "4ced2684",
    "outputId": "0d2286d4-e9ad-46e8-b6b6-c2668dfe4876"
   },
   "outputs": [
    {
     "name": "stdout",
     "output_type": "stream",
     "text": [
      "19.3.0.0.0\n"
     ]
    }
   ],
   "source": [
    "#Caso esteja usando o Oracle Express Edition localmente, use o comando\n",
    "#dsnStr = cx_Oracle.makedsn(host=\"localhost\", port=\"1521\", sid=\"xe\")\n",
    "dsnStr = cx_Oracle.makedsn(host=\"orclgrad1.icmc.usp.br\", port=\"1521\", service_name=\"pdb_junior.icmc.usp.br\")\n",
    "\n",
    "conexao = cx_Oracle.connect(user=\"M_SEU_CPF\", password=\"SUA_SENHA\", dsn=dsnStr)\n",
    "print(conexao.version)\n",
    "\n",
    "#No caso de PostgreSQL, usa-se a biblioteca psycopg2\n",
    "#import psycopg2\n",
    "#conn = psycopg2.connect(host=host_address, database=name_of_database, user=user_name, password=user_password)"
   ]
  },
  {
   "cell_type": "markdown",
   "id": "c734454f",
   "metadata": {
    "id": "c734454f"
   },
   "source": [
    "## Cursor\n",
    "* Uma conexão fornece objetos do tipo `cursor`; os quais permitem operações DDL e DML no banco conectado."
   ]
  },
  {
   "cell_type": "code",
   "execution_count": 9,
   "id": "f0bb35aa",
   "metadata": {
    "id": "f0bb35aa"
   },
   "outputs": [],
   "source": [
    "cursorDDL = conexao.cursor()\n",
    "cursorDML = conexao.cursor()"
   ]
  },
  {
   "cell_type": "markdown",
   "id": "44cc8f06",
   "metadata": {
    "id": "44cc8f06"
   },
   "source": [
    "## Criação de um esquema a partir de um script sql\n",
    "\n",
    "    1) Aqui fazemos a leitura completa de um arquivo;\n",
    "    2) Quebra do texto usando a operação de split, considerando o \";\" como separador;\n",
    "    3) Para cada comando encontrado, executamos o SQL por meio de um cursor;\n",
    "    4) Tratamos eventuais erros usando uma construção try-except."
   ]
  },
  {
   "cell_type": "code",
   "execution_count": 11,
   "id": "64405785",
   "metadata": {
    "id": "64405785",
    "outputId": "df81b4e4-0d87-4cf1-802e-43613de9262d"
   },
   "outputs": [
    {
     "name": "stdout",
     "output_type": "stream",
     "text": [
      "Certifique-se que o diretório EsquemaFutebol está dentro do diretório corrente:\n",
      "c:\\Ju\\USP\\MBA-IA_BIG_DATA\\Curso01\\2023\n",
      "\n",
      "Na primeira vez, execute esta célula duas vezes.\n",
      "\n",
      "Drop table time cascade constraints\n",
      "\n",
      "\n",
      "Drop table joga cascade constraints\n",
      "\n",
      "\n",
      "Drop table partida cascade constraints\n",
      "\n",
      "\n",
      "Drop table jogador cascade constraints\n",
      "\n",
      "\n",
      "Drop table posicao_jogador cascade constraints\n",
      "\n",
      "\n",
      "Drop table diretor cascade constraints\n",
      "\n",
      "\n",
      "Drop table uniforme cascade constraints\n",
      "\n",
      "\n",
      "\n",
      "\n",
      "CREATE TABLE time (\n",
      "      nome       VARCHAR2(40) NOT NULL,\n",
      "      estado     CHAR(2),\n",
      "      tipo       VARCHAR2(15),\n",
      "      saldo_gols INTEGER,\n",
      "      \n",
      "      CONSTRAINT pk_time PRIMARY KEY (nome),\n",
      "      CONSTRAINT ck_tipo CHECK (tipo in ('amador', 'profissional'))\n",
      ")\n",
      "\n",
      "\n",
      "\n",
      "CREATE TABLE joga (\n",
      "      time1      VARCHAR2(40) NOT NULL,\n",
      "      time2      VARCHAR2(40) NOT NULL,\n",
      "      classico   CHAR(1),\n",
      "\n",
      "      CONSTRAINT pk_joga PRIMARY KEY (time1, time2),\n",
      "      CONSTRAINT fk_joga1 FOREIGN KEY (time1) REFERENCES time(NOME) ON DELETE CASCADE,\n",
      "      CONSTRAINT fk_joga2 FOREIGN KEY (time2) REFERENCES time(NOME) ON DELETE CASCADE,\n",
      "      CONSTRAINT ck_classico CHECK (classico in ('S', 'N'))\n",
      ")\n",
      "\n",
      "\n",
      "\n",
      "CREATE TABLE partida (\n",
      "      time1      VARCHAR2(40) NOT NULL,\n",
      "      time2      VARCHAR2(40) NOT NULL,\n",
      "      data       DATE NOT NULL,\n",
      "      local      VARCHAR2(40),\n",
      "      placar     VARCHAR2(5) DEFAULT '0x0' NOT NULL,\n",
      "\n",
      "      CONSTRAINT pk_partida PRIMARY KEY (time1, time2, data),\n",
      "      CONSTRAINT fk_partida FOREIGN KEY (time1, time2) REFERENCES joga(time1, time2) ON DELETE CASCADE,\n",
      "      CONSTRAINT ck_placar  CHECK (placar like '%x%')\n",
      ")\n",
      "\n",
      "\n",
      "\n",
      "CREATE TABLE jogador (\n",
      "      rg              VARCHAR2(15) NOT NULL,\n",
      "      nome            VARCHAR2(40) NOT NULL,\n",
      "      data_nascimento DATE,\n",
      "      naturalidade    VARCHAR2(40),\n",
      "      time_atua       VARCHAR2(40),\n",
      "\n",
      "      CONSTRAINT pk_jogador PRIMARY KEY (rg),\n",
      "      CONSTRAINT un_jogador UNIQUE (nome),\n",
      "      CONSTRAINT fk_jogador FOREIGN KEY (time_atua) REFERENCES time(nome) ON DELETE SET NULL\n",
      ")\n",
      "\n",
      "\n",
      "\n",
      "CREATE TABLE posicao_jogador (\n",
      "      jogador         VARCHAR2(15) NOT NULL,\n",
      "      posicao         VARCHAR2(40) NOT NULL,\n",
      "\n",
      "      CONSTRAINT pk_posicao_jogador PRIMARY KEY (jogador, posicao),\n",
      "      CONSTRAINT fk_posicao_jogador FOREIGN KEY (jogador) REFERENCES jogador(rg) ON DELETE CASCADE\n",
      ")\n",
      "\n",
      "\n",
      "\n",
      "CREATE TABLE diretor (\n",
      "      timedir         VARCHAR2(40) NOT NULL,\n",
      "      nome            VARCHAR2(50) NOT NULL,\n",
      "      sobrenome       VARCHAR2(50) NOT NULL,\n",
      "\n",
      "      CONSTRAINT pk_diretor PRIMARY KEY (timedir, nome, sobrenome),\n",
      "      CONSTRAINT fk_diretor FOREIGN KEY (timedir) REFERENCES time(nome) ON DELETE CASCADE\n",
      ")\n",
      "\n",
      "\n",
      "\n",
      "CREATE TABLE uniforme (\n",
      "      timeunif        VARCHAR2(40) NOT NULL,\n",
      "      tipo            VARCHAR2(10) NOT NULL,\n",
      "      corprincipal    VARCHAR2(30) NOT NULL,\n",
      "\n",
      "      CONSTRAINT pk_uniforme PRIMARY KEY (timeunif, tipo),\n",
      "      CONSTRAINT fk_uniforme FOREIGN KEY (timeunif) REFERENCES time(nome) ON DELETE CASCADE,\n",
      "      CONSTRAINT ck_uniforme CHECK (tipo in ('titular', 'reserva'))\n",
      ")\n",
      "\n",
      "Script finalizado.\n"
     ]
    }
   ],
   "source": [
    "#Primeiro o esquema\n",
    "print(\"Certifique-se que o diretório EsquemaFutebol está dentro do diretório corrente:\")\n",
    "print(os.getcwd())\n",
    "print()\n",
    "fd = open('./EsquemaFutebol/Esquema_Futebol.sql', 'r')\n",
    "sqlFile = fd.read()\n",
    "fd.close()\n",
    "\n",
    "sqlCommands = sqlFile.split(';')\n",
    "for command in sqlCommands:\n",
    "    if(len(command) < 3): break;\n",
    "    try:\n",
    "        print(command)\n",
    "        print()\n",
    "        cursorDDL.execute(command)\n",
    "    except Exception as msg:\n",
    "        print(\"Erro de SQL: \"+ str(msg) + \": \"+ command)\n",
    "print('Script finalizado.')"
   ]
  },
  {
   "cell_type": "code",
   "execution_count": 12,
   "id": "666438eb",
   "metadata": {
    "id": "666438eb",
    "outputId": "340bae88-e608-4ad6-8b4c-176eb715c745"
   },
   "outputs": [
    {
     "name": "stdout",
     "output_type": "stream",
     "text": [
      "insert into time values ('Sao Paulo',     'SP', 'profissional', 8)\n",
      "\n",
      "\n",
      "insert into time values ('Palmeiras',     'SP', 'profissional', 5)\n",
      "\n",
      "\n",
      "insert into time values ('Santos',        'SP', 'profissional', 0)\n",
      "\n",
      "\n",
      "insert into time values ('Corinthians',   'SP', 'profissional', 6)\n",
      "\n",
      "\n",
      "insert into time values ('Paulistinha',   'SP', 'amador',       1)\n",
      "\n",
      "\n",
      "insert into time values ('Ibate',         'SP', 'amador',       0)\n",
      "\n",
      "\n",
      "insert into time values ('Cruzeiro',      'MG', 'profissional', 2)\n",
      "\n",
      "\n",
      "insert into time values ('Atletico',      'MG', 'profissional', 3)\n",
      "\n",
      "\n",
      "insert into time values ('Frutal',        'MG', 'amador',       1)\n",
      "\n",
      "\n",
      "\n",
      "insert into joga values ('Sao Paulo',   'Palmeiras',   'S')\n",
      "\n",
      "\n",
      "insert into joga values ('Ibate',       'Paulistinha', 'N')\n",
      "\n",
      "\n",
      "insert into joga values ('Ibate',       'Frutal',      'S')\n",
      "\n",
      "\n",
      "insert into joga values ('Santos',      'Corinthians', 'N')\n",
      "\n",
      "\n",
      "insert into joga values ('Corinthians', 'Palmeiras',   'S')\n",
      "\n",
      "\n",
      "insert into joga values ('Santos',      'Sao Paulo',    'N')\n",
      "\n",
      "\n",
      "insert into joga values ('Sao Paulo',   'Corinthians', 'S')\n",
      "\n",
      "\n",
      "insert into joga values ('Santos',      'Palmeiras',   'N')\n",
      "\n",
      "\n",
      "\n",
      "insert into partida values ('Sao Paulo', 'Palmeiras', TO_DATE('15/05/2007', 'DD/MM/YYYY'), 'Morumbi', '2x0')\n",
      "\n",
      "\n",
      "insert into partida values ('Santos', 'Sao Paulo',   TO_DATE('20/05/2007', 'DD/MM/YYYY'), 'Pacaembu',   '1x0')\n",
      "\n",
      "\n",
      "insert into partida values ('Santos',    'Palmeiras',  TO_DATE('06/06/2007', 'DD/MM/YYYY'), 'Vila Belmiro', '0x1')\n",
      "\n",
      "\n",
      "insert into partida (time1, time2, data, local) values ('Ibate','Paulistinha', TO_DATE('25/05/2007', 'DD/MM/YYYY'), 'Luizao')\n",
      "\n",
      "\n",
      "insert into partida (time1, time2, data, local) values ('Santos',    'Corinthians', TO_DATE('30/05/2007', 'DD/MM/YYYY'), 'Pacaembu')\n",
      "\n",
      "\n",
      "\n",
      "insert into jogador values (111111111, 'Pele', TO_DATE('15/05/1955', 'DD/MM/YYYY'), 'Santos', 'Santos')\n",
      "\n",
      "\n",
      "insert into jogador values (111111112, 'Garrincha', TO_DATE('01/12/1945', 'DD/MM/YYYY'), 'Sao Paulo', 'Ibate')\n",
      "\n",
      "\n",
      "insert into jogador values (111111113, 'Muller', TO_DATE('09/09/1960', 'DD/MM/YYYY'), 'Sao Paulo', 'Sao Paulo')\n",
      "\n",
      "\n",
      "insert into jogador values (111111114, 'Zeca',  TO_DATE('09/09/1980', 'DD/MM/YYYY'), 'Frutal', 'Frutal')\n",
      "\n",
      "\n",
      "insert into jogador (rg, nome, data_nascimento, naturalidade) values (111111115, 'Juca',  TO_DATE('09/09/1982', 'DD/MM/YYYY'), 'Sao Carlos')\n",
      "\n",
      "\n",
      "\n",
      "\n",
      "insert into posicao_jogador values (111111113, 'Atacante')\n",
      "\n",
      "\n",
      "insert into posicao_jogador values (111111112, 'Zagueiro')\n",
      "\n",
      "\n",
      "insert into posicao_jogador values (111111111, 'Centroavante')\n",
      "\n",
      "\n",
      "\n",
      "insert into diretor values ('Sao Paulo',   'Joao',    'da Silva')\n",
      "\n",
      "\n",
      "insert into diretor values ('Palmeiras',   'Jose',    'Souza')\n",
      "\n",
      "\n",
      "insert into diretor values ('Corinthians', 'Tome',    'Sauza')\n",
      "\n",
      "\n",
      "insert into diretor values ('Ibate',       'Manuel',  'Carlos')\n",
      "\n",
      "\n",
      "insert into diretor values ('Paulistinha', 'Joaquim', 'Moura')\n",
      "\n",
      "\n",
      "\n",
      "insert into uniforme values ('Atletico', 'titular', 'vermelho')\n",
      "\n",
      "\n",
      "insert into uniforme values ('Atletico', 'reserva', 'preto')\n",
      "\n",
      "\n",
      "insert into uniforme values ('Sao Paulo',   'titular', 'vermelho')\n",
      "\n",
      "\n",
      "insert into uniforme values ('Sao Paulo',   'reserva', 'branca')\n",
      "\n",
      "\n",
      "insert into uniforme values ('Palmeiras',   'titular', 'verde')\n",
      "\n",
      "\n",
      "insert into uniforme values ('Palmeiras',   'reserva', 'branca')\n",
      "\n",
      "\n",
      "insert into uniforme values ('Corinthians', 'titular', 'branca')\n",
      "\n",
      "\n",
      "insert into uniforme values ('Corinthians', 'reserva', 'preto')\n",
      "\n",
      "\n",
      "insert into uniforme values ('Frutal', 'titular', 'vermelho')\n",
      "\n",
      "\n",
      "insert into uniforme values ('Frutal', 'reserva', 'preto')\n",
      "\n",
      "Script finalizado.\n"
     ]
    }
   ],
   "source": [
    "#Agora as relações instanciadas\n",
    "fd = open('./EsquemaFutebol/Dados_Futebol.sql', 'r')\n",
    "sqlFile = fd.read()\n",
    "fd.close()\n",
    "\n",
    "sqlCommands = sqlFile.split(';')\n",
    "for command in sqlCommands:\n",
    "    if(len(command) < 3): break;    \n",
    "    try:\n",
    "        print(command)\n",
    "        print()\n",
    "        cursorDDL.execute(command)        \n",
    "    except Exception as msg:\n",
    "        print(\"Erro de SQL: \"+ str(msg) + \": |\"+ command+'|')\n",
    "print('Script finalizado.')"
   ]
  },
  {
   "cell_type": "code",
   "execution_count": 13,
   "id": "eaed2742",
   "metadata": {},
   "outputs": [],
   "source": [
    "#os dados soh aparecerao para outros clientes do banco apos este comando\n",
    "cursorDDL.execute('commit')"
   ]
  },
  {
   "cell_type": "markdown",
   "id": "684da884",
   "metadata": {
    "id": "684da884"
   },
   "source": [
    "# Consulta à estrutura do esquema por meio do Dicionário de Dados\n",
    "\n",
    "* O dicionário de dados é o banco de dados que guarda informações sobre os esquemas presentes no banco de dados.\n",
    "Ele é usado para a realização de meta operações sobre a base de dados; por exemplo, a interface gráfica de um cliente SQL, ou os campos que constituirão um formulário de dados."
   ]
  },
  {
   "cell_type": "code",
   "execution_count": 14,
   "id": "a7661f96",
   "metadata": {
    "id": "a7661f96",
    "outputId": "194b843d-99f2-4bda-a145-9c8e2c3c1fd4"
   },
   "outputs": [
    {
     "name": "stdout",
     "output_type": "stream",
     "text": [
      "Lista das tabelas no esquema do usuário que estabeleceu a conexão:\n",
      "DIRETOR\n",
      "JOGA\n",
      "JOGADOR\n",
      "LE01ESTADO\n",
      "LE02CIDADE\n",
      "LE03ZONA\n",
      "LE04BAIRRO\n",
      "LE05URNA\n",
      "LE06SESSAO\n",
      "LE07PARTIDO\n",
      "LE08CANDIDATO\n",
      "LE09CARGO\n",
      "LE10CANDIDATURA\n",
      "LE11PLEITO\n",
      "LE12PESQUISA\n",
      "LE13INTENCAODEVOTO\n",
      "PARTIDA\n",
      "POSICAO_JOGADOR\n",
      "REF\n",
      "SESSAO\n",
      "TESTE\n",
      "TESTE10\n",
      "TIME\n",
      "UNIFORME\n",
      "URNA\n"
     ]
    }
   ],
   "source": [
    "cursorDML.execute('select * from user_tables')\n",
    "print('Lista das tabelas no esquema do usuário que estabeleceu a conexão:')\n",
    "for tupla in cursorDML:     \n",
    "    print(tupla[0])"
   ]
  },
  {
   "cell_type": "markdown",
   "id": "dc501fb2",
   "metadata": {
    "id": "dc501fb2"
   },
   "source": [
    "* Aqui, define-se uma função para recuperar todas as chaves estrangeiras de uma dada tabela."
   ]
  },
  {
   "cell_type": "code",
   "execution_count": 15,
   "id": "86f211a7",
   "metadata": {
    "id": "86f211a7"
   },
   "outputs": [],
   "source": [
    "def printForeignKeys(sATableName = ''):\n",
    "    SQL=('SELECT a.table_name, a.column_name, a.constraint_name, c.owner, c.r_owner, '\n",
    "         'c_pk.table_name r_table_name, c_pk.constraint_name r_pk FROM user_cons_columns a '\n",
    "         'JOIN user_constraints c ON a.owner = c.owner '\n",
    "         'AND a.constraint_name = c.constraint_name '\n",
    "         'JOIN user_constraints c_pk ON c.r_owner = c_pk.owner '\n",
    "         'AND c.r_constraint_name = c_pk.constraint_name '\n",
    "         'WHERE c.constraint_type = \\'R\\' ')\n",
    "    if(sATableName != ''):\n",
    "        SQL += 'AND a.table_name = \\'' + sATableName.upper() +'\\' '\n",
    "    SQL += 'ORDER BY a.table_name, constraint_name'\n",
    "    cursorTemp = conexao.cursor()\n",
    "    cursorTemp.execute(SQL)\n",
    "    for tupla in cursorTemp:\n",
    "        print(tupla)\n",
    "    cursorTemp.close()"
   ]
  },
  {
   "cell_type": "code",
   "execution_count": 17,
   "id": "d6362050",
   "metadata": {
    "id": "d6362050",
    "outputId": "adcde8df-c8d7-49a0-fe27-fc46bf9ad205"
   },
   "outputs": [
    {
     "name": "stdout",
     "output_type": "stream",
     "text": [
      "('DIRETOR', 'TIMEDIR', 'FK_DIRETOR', 'D2373891', 'D2373891', 'TIME', 'PK_TIME')\n",
      "('JOGA', 'TIME1', 'FK_JOGA1', 'D2373891', 'D2373891', 'TIME', 'PK_TIME')\n",
      "('JOGA', 'TIME2', 'FK_JOGA2', 'D2373891', 'D2373891', 'TIME', 'PK_TIME')\n",
      "('JOGADOR', 'TIME_ATUA', 'FK_JOGADOR', 'D2373891', 'D2373891', 'TIME', 'PK_TIME')\n",
      "('LE02CIDADE', 'SIGLAESTADO', 'FKESTADOCIDADE', 'D2373891', 'D2373891', 'LE01ESTADO', 'PKESTADO')\n",
      "('LE04BAIRRO', 'SIGLAESTADO', 'FKCIDADEBAIRRO', 'D2373891', 'D2373891', 'LE02CIDADE', 'PKCIDADE')\n",
      "('LE04BAIRRO', 'NOMECIDADE', 'FKCIDADEBAIRRO', 'D2373891', 'D2373891', 'LE02CIDADE', 'PKCIDADE')\n",
      "('LE04BAIRRO', 'NROZONA', 'FKZONABAIRRO', 'D2373891', 'D2373891', 'LE03ZONA', 'PKZONA')\n",
      "('LE05URNA', 'NROZONA', 'FKZONAURNA', 'D2373891', 'D2373891', 'LE03ZONA', 'PKZONA')\n",
      "('LE06SESSAO', 'NSERIAL', 'FKURNASESSAO', 'D2373891', 'D2373891', 'LE05URNA', 'PKURNA')\n",
      "('LE06SESSAO', 'NROZONA', 'FKZONASESSAO', 'D2373891', 'D2373891', 'LE03ZONA', 'PKZONA')\n",
      "('LE08CANDIDATO', 'SIGLAPARTIDO', 'FKPARTIDOCANDIDATO', 'D2373891', 'D2373891', 'LE07PARTIDO', 'PKPARTIDO')\n",
      "('LE09CARGO', 'NOMECIDADE', 'FKCIDADECARGO', 'D2373891', 'D2373891', 'LE02CIDADE', 'PKCIDADE')\n",
      "('LE09CARGO', 'SIGLAESTADO', 'FKCIDADECARGO', 'D2373891', 'D2373891', 'LE02CIDADE', 'PKCIDADE')\n",
      "('LE09CARGO', 'SIGLAESTADO', 'FKESTADOCARGO', 'D2373891', 'D2373891', 'LE01ESTADO', 'PKESTADO')\n",
      "('LE10CANDIDATURA', 'NROCAND', 'FKCANDIDATOCANDIDATURA', 'D2373891', 'D2373891', 'LE08CANDIDATO', 'PKCANDIDATO')\n",
      "('LE10CANDIDATURA', 'CODCARGO', 'FKCARGOCANDIDATURA', 'D2373891', 'D2373891', 'LE09CARGO', 'PKCARGO')\n",
      "('LE10CANDIDATURA', 'NROVICE', 'FKVICECANDIDATO', 'D2373891', 'D2373891', 'LE08CANDIDATO', 'PKCANDIDATO')\n",
      "('LE11PLEITO', 'CODCARGO', 'FKCANDIDATURASESSAO', 'D2373891', 'D2373891', 'LE10CANDIDATURA', 'UNCANDIDAT')\n",
      "('LE11PLEITO', 'ANO', 'FKCANDIDATURASESSAO', 'D2373891', 'D2373891', 'LE10CANDIDATURA', 'UNCANDIDAT')\n",
      "('LE11PLEITO', 'NROCAND', 'FKCANDIDATURASESSAO', 'D2373891', 'D2373891', 'LE10CANDIDATURA', 'UNCANDIDAT')\n",
      "('LE11PLEITO', 'NROZONA', 'FKSESSAOCANDIDATURA', 'D2373891', 'D2373891', 'LE06SESSAO', 'PKSESSAO')\n",
      "('LE11PLEITO', 'NROSESSAO', 'FKSESSAOCANDIDATURA', 'D2373891', 'D2373891', 'LE06SESSAO', 'PKSESSAO')\n",
      "('LE13INTENCAODEVOTO', 'REGCANDID', 'FKCANDIDATURAPESQUISA', 'D2373891', 'D2373891', 'LE10CANDIDATURA', 'PKREGCANDIDATURA')\n",
      "('LE13INTENCAODEVOTO', 'REGPESQUISA', 'FKPESQUISACANDIDATURA', 'D2373891', 'D2373891', 'LE12PESQUISA', 'PKPESQUISA')\n",
      "('PARTIDA', 'TIME2', 'FK_PARTIDA', 'D2373891', 'D2373891', 'JOGA', 'PK_JOGA')\n",
      "('PARTIDA', 'TIME1', 'FK_PARTIDA', 'D2373891', 'D2373891', 'JOGA', 'PK_JOGA')\n",
      "('POSICAO_JOGADOR', 'JOGADOR', 'FK_POSICAO_JOGADOR', 'D2373891', 'D2373891', 'JOGADOR', 'PK_JOGADOR')\n",
      "('SESSAO', 'URNA', 'FK_URNA', 'D2373891', 'D2373891', 'URNA', 'PK_URNA')\n",
      "('TESTE', 'CPF', 'CPF_FK', 'D2373891', 'D2373891', 'REF', 'ID')\n",
      "('UNIFORME', 'TIMEUNIF', 'FK_UNIFORME', 'D2373891', 'D2373891', 'TIME', 'PK_TIME')\n"
     ]
    }
   ],
   "source": [
    "printForeignKeys('') #este comando pode demorar um pouco"
   ]
  },
  {
   "cell_type": "markdown",
   "id": "e26fbe67",
   "metadata": {
    "id": "e26fbe67"
   },
   "source": [
    "## Diagrama da base de dados Futebol, usada neste notebook\n",
    "(execute a celula abaixo para visualizar)"
   ]
  },
  {
   "cell_type": "markdown",
   "id": "71b51a97",
   "metadata": {
    "id": "71b51a97"
   },
   "source": [
    "<img src=\"./EsquemaFutebol/EsquemaFutebol.png\" width=350 height=350 />"
   ]
  },
  {
   "cell_type": "markdown",
   "id": "f1a85a9d",
   "metadata": {
    "id": "f1a85a9d"
   },
   "source": [
    "* Inserindo alguns dados."
   ]
  },
  {
   "cell_type": "code",
   "execution_count": 18,
   "id": "503ba65f",
   "metadata": {
    "id": "503ba65f"
   },
   "outputs": [],
   "source": [
    "cursorDML.execute(\"insert into Time values ('Fortaleza', 'CE', 'profissional', 2)\")\n",
    "#usando binding variables\n",
    "cursorDML.execute(\"insert into Time values (:a,:b,:c,:d)\",['Juventude', 'RS', 'profissional', 3])\n",
    "cursorDML.execute(\"insert into Joga values (:a,:b,:c)\",['Juventude', 'Fortaleza', 'N'])"
   ]
  },
  {
   "cell_type": "markdown",
   "id": "ba6d655a",
   "metadata": {
    "id": "ba6d655a"
   },
   "source": [
    "* Se foi tudo ok, executar `commit()`; do contrário, executar `rollback()` para desfazer as atualizações"
   ]
  },
  {
   "cell_type": "code",
   "execution_count": 19,
   "id": "da86b8f4",
   "metadata": {
    "id": "da86b8f4"
   },
   "outputs": [],
   "source": [
    "conexao.commit()"
   ]
  },
  {
   "cell_type": "markdown",
   "id": "ff540527",
   "metadata": {
    "id": "ff540527"
   },
   "source": [
    "# Recuperando dados com cursores\n",
    "* Pode-se requisitar os dados da base um por vez, o que consome mais recursos de rede e processamento no servidor; ou múltiplos por vez (batch), o que é mais eficiente. Se houver memória (ou poucos dados) pode-se recuperar todos os dados de uma vez."
   ]
  },
  {
   "cell_type": "markdown",
   "id": "d5c404f9",
   "metadata": {
    "id": "d5c404f9"
   },
   "source": [
    "* Um por vez"
   ]
  },
  {
   "cell_type": "code",
   "execution_count": 20,
   "id": "faa5eaaf",
   "metadata": {
    "id": "faa5eaaf",
    "outputId": "8f3b56eb-f6dc-434b-fdd3-d65338335472"
   },
   "outputs": [
    {
     "name": "stdout",
     "output_type": "stream",
     "text": [
      "('Ibate', 'Paulistinha', 'N')\n",
      "('Santos', 'Corinthians', 'N')\n",
      "('Santos', 'Sao Paulo', 'N')\n",
      "('Santos', 'Palmeiras', 'N')\n",
      "('Juventude', 'Fortaleza', 'N')\n"
     ]
    }
   ],
   "source": [
    "cursorDML.execute(\"select * from Joga where classico = \\'N\\'\")\n",
    "while True:\n",
    "    row = cursorDML.fetchone()  #Um por vez\n",
    "    if row is None: break\n",
    "    print(row)"
   ]
  },
  {
   "cell_type": "markdown",
   "id": "c8c2106e",
   "metadata": {
    "id": "c8c2106e"
   },
   "source": [
    "* **Batch**: menos requisições de rede/transferência de dados; menos processamento no servidor"
   ]
  },
  {
   "cell_type": "code",
   "execution_count": 21,
   "id": "f9adce32",
   "metadata": {
    "id": "f9adce32",
    "outputId": "f252b4cf-30bc-4bb3-81e8-efecdbe2aa60"
   },
   "outputs": [
    {
     "name": "stdout",
     "output_type": "stream",
     "text": [
      "('Sao Paulo', 'SP', 'profissional', 8)\n",
      "('Palmeiras', 'SP', 'profissional', 5)\n",
      "('Santos', 'SP', 'profissional', 0)\n",
      "('Corinthians', 'SP', 'profissional', 6)\n",
      "('Paulistinha', 'SP', 'amador', 1)\n",
      "('Ibate', 'SP', 'amador', 0)\n",
      "('Cruzeiro', 'MG', 'profissional', 2)\n",
      "('Atletico', 'MG', 'profissional', 3)\n",
      "('Frutal', 'MG', 'amador', 1)\n",
      "('Fortaleza', 'CE', 'profissional', 2)\n",
      "('Juventude', 'RS', 'profissional', 3)\n",
      "\n",
      "Foram recuperadas 11 tuplas.\n"
     ]
    }
   ],
   "source": [
    "cursorDML.execute(\"select * from Time\")\n",
    "num_rows = 11\n",
    "while True:\n",
    "    rows = cursorDML.fetchmany(num_rows) #Muitos por vez\n",
    "    if not rows: break\n",
    "    for row in rows:\n",
    "        print(row)\n",
    "        \n",
    "print()\n",
    "print(\"Foram recuperadas \"+str(cursorDML.rowcount) +\" tuplas.\")\n"
   ]
  },
  {
   "cell_type": "markdown",
   "id": "44f490b0",
   "metadata": {
    "id": "44f490b0"
   },
   "source": [
    "* É possível ainda recuperar meta-informações sobre as colunas retornadas por meio do cursor"
   ]
  },
  {
   "cell_type": "code",
   "execution_count": 22,
   "id": "3deec064",
   "metadata": {
    "id": "3deec064",
    "outputId": "ed12967f-bfc5-4bfe-fece-d5e635e908a3"
   },
   "outputs": [
    {
     "name": "stdout",
     "output_type": "stream",
     "text": [
      "('NOME', <cx_Oracle.DbType DB_TYPE_VARCHAR>, 40, 40, None, None, 0)\n",
      "('ESTADO', <cx_Oracle.DbType DB_TYPE_CHAR>, 2, 2, None, None, 1)\n",
      "('TIPO', <cx_Oracle.DbType DB_TYPE_VARCHAR>, 15, 15, None, None, 1)\n",
      "('SALDO_GOLS', <cx_Oracle.DbType DB_TYPE_NUMBER>, 39, None, 38, 0, 1)\n"
     ]
    }
   ],
   "source": [
    "for metadata in cursorDML.description:\n",
    "    print(metadata)"
   ]
  },
  {
   "cell_type": "markdown",
   "id": "dcfe1981",
   "metadata": {
    "id": "dcfe1981"
   },
   "source": [
    "# Usando rowfactories\n",
    "\n",
    "* Com rowfactories podemos processar os dados recuperados antes de retorná-los."
   ]
  },
  {
   "cell_type": "code",
   "execution_count": 32,
   "id": "9e42b7d1",
   "metadata": {
    "id": "9e42b7d1"
   },
   "outputs": [],
   "source": [
    "cursorDML.execute(\"select * from jogador\")\n",
    "# col[0] eh o nome de cada atributo\n",
    "# o comando a seguir monta o array (lista) com os nomes dos atributos\n",
    "columns = [col[0] for col in cursorDML.description]\n",
    "\n",
    "# aqui definimos como o rowfactory serah executado quando um comando de fecth acontecer\n",
    "cursorDML.rowfactory = lambda *args: zip(columns, args) #aplica lambda para cada tupla\n"
   ]
  },
  {
   "cell_type": "code",
   "execution_count": 33,
   "id": "ea4ea070",
   "metadata": {
    "id": "ea4ea070",
    "outputId": "777c0137-3dc1-415d-8853-90f08beacb50"
   },
   "outputs": [
    {
     "name": "stdout",
     "output_type": "stream",
     "text": [
      "[('RG', '111111111'), ('NOME', 'Pele'), ('DATA_NASCIMENTO', datetime.datetime(1955, 5, 15, 0, 0)), ('NATURALIDADE', 'Santos'), ('TIME_ATUA', 'Santos')]\n"
     ]
    }
   ],
   "source": [
    "# a operação de fetch garante a execução do lambda\n",
    "data = cursorDML.fetchone()\n",
    "# o resultado é o produto cartesiano {nomes do atributos} x {valores dos atributos}\n",
    "print(list(data))"
   ]
  },
  {
   "cell_type": "markdown",
   "id": "8dad2a20",
   "metadata": {
    "id": "8dad2a20"
   },
   "source": [
    "# Lendo dados do banco diretamente para um Pandas Dataframe"
   ]
  },
  {
   "cell_type": "markdown",
   "id": "7b46667f",
   "metadata": {
    "id": "7b46667f"
   },
   "source": [
    "* Uma consulta SQL."
   ]
  },
  {
   "cell_type": "code",
   "execution_count": 34,
   "id": "7c04cac6",
   "metadata": {
    "id": "7c04cac6"
   },
   "outputs": [],
   "source": [
    "meuDataFrame = pd.read_sql_query('SELECT * FROM Partida', con=conexao)"
   ]
  },
  {
   "cell_type": "code",
   "execution_count": 35,
   "id": "77758d87",
   "metadata": {
    "id": "77758d87",
    "outputId": "6f165ab8-030d-4e6e-be17-ec432408d1eb"
   },
   "outputs": [
    {
     "data": {
      "text/html": [
       "<div>\n",
       "<style scoped>\n",
       "    .dataframe tbody tr th:only-of-type {\n",
       "        vertical-align: middle;\n",
       "    }\n",
       "\n",
       "    .dataframe tbody tr th {\n",
       "        vertical-align: top;\n",
       "    }\n",
       "\n",
       "    .dataframe thead th {\n",
       "        text-align: right;\n",
       "    }\n",
       "</style>\n",
       "<table border=\"1\" class=\"dataframe\">\n",
       "  <thead>\n",
       "    <tr style=\"text-align: right;\">\n",
       "      <th></th>\n",
       "      <th>TIME1</th>\n",
       "      <th>TIME2</th>\n",
       "      <th>DATA</th>\n",
       "      <th>LOCAL</th>\n",
       "      <th>PLACAR</th>\n",
       "    </tr>\n",
       "  </thead>\n",
       "  <tbody>\n",
       "    <tr>\n",
       "      <th>0</th>\n",
       "      <td>Sao Paulo</td>\n",
       "      <td>Palmeiras</td>\n",
       "      <td>2007-05-15</td>\n",
       "      <td>Morumbi</td>\n",
       "      <td>2x0</td>\n",
       "    </tr>\n",
       "    <tr>\n",
       "      <th>1</th>\n",
       "      <td>Santos</td>\n",
       "      <td>Sao Paulo</td>\n",
       "      <td>2007-05-20</td>\n",
       "      <td>Pacaembu</td>\n",
       "      <td>1x0</td>\n",
       "    </tr>\n",
       "    <tr>\n",
       "      <th>2</th>\n",
       "      <td>Santos</td>\n",
       "      <td>Palmeiras</td>\n",
       "      <td>2007-06-06</td>\n",
       "      <td>Vila Belmiro</td>\n",
       "      <td>0x1</td>\n",
       "    </tr>\n",
       "    <tr>\n",
       "      <th>3</th>\n",
       "      <td>Ibate</td>\n",
       "      <td>Paulistinha</td>\n",
       "      <td>2007-05-25</td>\n",
       "      <td>Luizao</td>\n",
       "      <td>0x0</td>\n",
       "    </tr>\n",
       "    <tr>\n",
       "      <th>4</th>\n",
       "      <td>Santos</td>\n",
       "      <td>Corinthians</td>\n",
       "      <td>2007-05-30</td>\n",
       "      <td>Pacaembu</td>\n",
       "      <td>0x0</td>\n",
       "    </tr>\n",
       "  </tbody>\n",
       "</table>\n",
       "</div>"
      ],
      "text/plain": [
       "       TIME1        TIME2       DATA         LOCAL PLACAR\n",
       "0  Sao Paulo    Palmeiras 2007-05-15       Morumbi    2x0\n",
       "1     Santos    Sao Paulo 2007-05-20      Pacaembu    1x0\n",
       "2     Santos    Palmeiras 2007-06-06  Vila Belmiro    0x1\n",
       "3      Ibate  Paulistinha 2007-05-25        Luizao    0x0\n",
       "4     Santos  Corinthians 2007-05-30      Pacaembu    0x0"
      ]
     },
     "execution_count": 35,
     "metadata": {},
     "output_type": "execute_result"
    }
   ],
   "source": [
    "meuDataFrame"
   ]
  },
  {
   "cell_type": "markdown",
   "id": "84172bdd",
   "metadata": {
    "id": "84172bdd"
   },
   "source": [
    "* ATENCAO: um dataframe nada mais é do que `uma tabela (uma relação) em memória`. Muito provavelmente, ler uma tabela inteira em memória vai causar problemas de falta de memória e de processamento. Uma solução é ler pedaços (**chunks**) da tabela em um objeto do tipo **generator**;\n",
    "\n",
    "* Pode-se fazer isso usando-se uma variação do `read_sql_query()` com o parâmetro `chunksize` fornecido. Neste caso, o resultado não será um DataFrame, mas sim um objeto do tipo **generator**, o qual fornecerá um DataFrame com chunksize elementos a cada iteração;\n",
    "\n",
    "* **Generator**: uma abstração de dados que permite a geração de resultados/produtos sequencialmente, os quais são produzidos mediante requisição. Após um generator ser consumido, ele precisa ser regerado."
   ]
  },
  {
   "cell_type": "code",
   "execution_count": 36,
   "id": "cadabf3e",
   "metadata": {
    "id": "cadabf3e",
    "outputId": "8796d4b8-65e0-4b17-e7e4-9360823472a9"
   },
   "outputs": [
    {
     "data": {
      "text/plain": [
       "generator"
      ]
     },
     "execution_count": 36,
     "metadata": {},
     "output_type": "execute_result"
    }
   ],
   "source": [
    "dataFrameGenerator = pd.read_sql_query('SELECT * FROM Time', con=conexao, chunksize=3)\n",
    "type(dataFrameGenerator)"
   ]
  },
  {
   "cell_type": "code",
   "execution_count": 37,
   "id": "175e20f8",
   "metadata": {
    "id": "175e20f8",
    "outputId": "31e8e7bc-1dc1-4af0-9e14-5d2d89ca8f3a"
   },
   "outputs": [
    {
     "name": "stdout",
     "output_type": "stream",
     "text": [
      "----------\n",
      "Chunk 0\n",
      "        NOME ESTADO          TIPO  SALDO_GOLS\n",
      "0  Sao Paulo     SP  profissional           8\n",
      "1  Palmeiras     SP  profissional           5\n",
      "2     Santos     SP  profissional           0\n",
      "----------\n",
      "Chunk 1\n",
      "          NOME ESTADO          TIPO  SALDO_GOLS\n",
      "0  Corinthians     SP  profissional           6\n",
      "1  Paulistinha     SP        amador           1\n",
      "2        Ibate     SP        amador           0\n",
      "----------\n",
      "Chunk 2\n",
      "       NOME ESTADO          TIPO  SALDO_GOLS\n",
      "0  Cruzeiro     MG  profissional           2\n",
      "1  Atletico     MG  profissional           3\n",
      "2    Frutal     MG        amador           1\n",
      "----------\n",
      "Chunk 3\n",
      "        NOME ESTADO          TIPO  SALDO_GOLS\n",
      "0  Fortaleza     CE  profissional           2\n",
      "1  Juventude     RS  profissional           3\n"
     ]
    }
   ],
   "source": [
    "for i, dataFrameChunk in enumerate(dataFrameGenerator):\n",
    "    print('-'*10)\n",
    "    print(\"Chunk \"+str(i))\n",
    "    print(dataFrameChunk)\n"
   ]
  },
  {
   "cell_type": "markdown",
   "id": "fb7d0c92",
   "metadata": {
    "id": "fb7d0c92"
   },
   "source": [
    "* Com o processamento em chunks é possível executar processamento pedaço por pedaço do dataset."
   ]
  },
  {
   "cell_type": "code",
   "execution_count": 38,
   "id": "8e175986",
   "metadata": {
    "id": "8e175986"
   },
   "outputs": [],
   "source": [
    "total_de_gols = 0\n",
    "dataFrameGenerator = pd.read_sql_query('SELECT * FROM time', con=conexao, chunksize=3)"
   ]
  },
  {
   "cell_type": "code",
   "execution_count": 39,
   "id": "6669f0c4",
   "metadata": {
    "id": "6669f0c4",
    "outputId": "7683d08a-736e-4bab-bf3c-dd1a082bb7eb"
   },
   "outputs": [
    {
     "name": "stdout",
     "output_type": "stream",
     "text": [
      "Total de gols do 0-esimo chunk: 13\n",
      "Total de gols do 1-esimo chunk: 7\n",
      "Total de gols do 2-esimo chunk: 6\n",
      "Total de gols do 3-esimo chunk: 5\n",
      "Total de gols da tabela inteira: 31\n"
     ]
    }
   ],
   "source": [
    "for i, dataFrameChunk in enumerate(dataFrameGenerator):\n",
    "    total_chunk = dataFrameChunk['SALDO_GOLS'].sum()\n",
    "    print('Total de gols do ' + str(i) + '-esimo chunk: '+str(total_chunk))\n",
    "    total_de_gols += total_chunk\n",
    "print(\"Total de gols da tabela inteira: \" + str(total_de_gols))"
   ]
  },
  {
   "cell_type": "markdown",
   "id": "68473803",
   "metadata": {
    "id": "68473803"
   },
   "source": [
    "* ATENCAO: o processamento de agregações é muito eficiente em SGBDs relacionais. Trazer dados do database para a memória, computar, e depois totalizar só é recomendado para tarefas que não podem ser processadas, ou que são muito complexas, em um SGBD. Para o exemplo da totalização, basta um simples SQL:"
   ]
  },
  {
   "cell_type": "code",
   "execution_count": 40,
   "id": "c739079f",
   "metadata": {
    "id": "c739079f",
    "outputId": "f4221806-f02a-4231-db23-3b8393d83a90"
   },
   "outputs": [
    {
     "name": "stdout",
     "output_type": "stream",
     "text": [
      "31\n"
     ]
    }
   ],
   "source": [
    "for row in cursorDML.execute(\"Select SUM(saldo_gols) from time\"): print(row[0])"
   ]
  },
  {
   "cell_type": "markdown",
   "id": "78ff7956",
   "metadata": {
    "id": "78ff7956"
   },
   "source": [
    "# SQLAlchemy - SQL Expression Language\n",
    "\n",
    "* O **SQLAlchemy** oferece um conjunto de ferramentas, o **SQL Expression Language**, que permitem executar SQL sem a necessidade de escrever código SQL;\n",
    "* Documentação completa em https://docs.sqlalchemy.org/en/14/genindex.html#T"
   ]
  },
  {
   "cell_type": "markdown",
   "id": "7aad78b5",
   "metadata": {
    "id": "7aad78b5"
   },
   "source": [
    "* Primeiro, cria-se um **engine** usando-se a string de conexão."
   ]
  },
  {
   "cell_type": "code",
   "execution_count": 41,
   "id": "4adcd5c7",
   "metadata": {
    "id": "4adcd5c7",
    "outputId": "0c81eba9-56f3-4a03-93de-f62f30b0397c"
   },
   "outputs": [
    {
     "data": {
      "text/plain": [
       "'(DESCRIPTION=(ADDRESS=(PROTOCOL=TCP)(HOST=orclgrad1.icmc.usp.br)(PORT=1521))(CONNECT_DATA=(SERVICE_NAME=pdb_junior.icmc.usp.br)))'"
      ]
     },
     "execution_count": 41,
     "metadata": {},
     "output_type": "execute_result"
    }
   ],
   "source": [
    "dsnStr"
   ]
  },
  {
   "cell_type": "code",
   "execution_count": 43,
   "id": "be955311",
   "metadata": {
    "id": "be955311",
    "outputId": "400f5558-8602-4d82-cb0b-8d6414d50e0f"
   },
   "outputs": [
    {
     "name": "stdout",
     "output_type": "stream",
     "text": [
      "2023-07-07 14:06:38,688 INFO sqlalchemy.engine.Engine select sys_context( 'userenv', 'current_schema' ) from dual\n",
      "2023-07-07 14:06:38,688 INFO sqlalchemy.engine.Engine [raw sql] {}\n",
      "2023-07-07 14:06:38,936 INFO sqlalchemy.engine.Engine SELECT value FROM v$parameter WHERE name = 'compatible'\n",
      "2023-07-07 14:06:38,936 INFO sqlalchemy.engine.Engine [raw sql] {}\n",
      "2023-07-07 14:06:39,020 INFO sqlalchemy.engine.Engine select value from nls_session_parameters where parameter = 'NLS_NUMERIC_CHARACTERS'\n",
      "2023-07-07 14:06:39,020 INFO sqlalchemy.engine.Engine [raw sql] {}\n"
     ]
    },
    {
     "data": {
      "text/plain": [
       "<sqlalchemy.engine.base.Connection at 0x1f3f16a4fd0>"
      ]
     },
     "execution_count": 43,
     "metadata": {},
     "output_type": "execute_result"
    }
   ],
   "source": [
    "ora_engine = sqlalchemy.create_engine(f'oracle+cx_oracle://M_SEU_CPF:SUA_SENHA@'+dsnStr, echo=True)\n",
    "ora_engine.connect()"
   ]
  },
  {
   "cell_type": "markdown",
   "id": "89958061",
   "metadata": {
    "id": "89958061"
   },
   "source": [
    "* Em seguida, cria-se um **metaobjeto** com as informações da tabela onde se deseja realizar operações.\n",
    "* No exemplo a seguir, o objeto jogador guardará em memória todas as informações que descrevem o esquema da relação Jogador, assim como suas restrições de integridade. O SQLAlchemy exibe o acesso feito ao dicionário de dados."
   ]
  },
  {
   "cell_type": "code",
   "execution_count": 44,
   "id": "f490e0c5",
   "metadata": {
    "id": "f490e0c5",
    "outputId": "c57b989b-2775-4708-fb30-f3bddbda7314"
   },
   "outputs": [
    {
     "name": "stdout",
     "output_type": "stream",
     "text": [
      "2023-07-07 14:08:19,136 INFO sqlalchemy.engine.Engine SELECT table_name, compression, compress_for FROM ALL_TABLES WHERE table_name = :table_name AND owner = :owner \n",
      "2023-07-07 14:08:19,137 INFO sqlalchemy.engine.Engine [generated in 0.00054s] {'table_name': 'JOGADOR', 'owner': 'D2373891'}\n",
      "2023-07-07 14:08:19,438 INFO sqlalchemy.engine.Engine \n",
      "            SELECT\n",
      "                col.column_name,\n",
      "                col.data_type,\n",
      "                col.char_length,\n",
      "                col.data_precision,\n",
      "                col.data_scale,\n",
      "                col.nullable,\n",
      "                col.data_default,\n",
      "                com.comments,\n",
      "                col.virtual_column,\n",
      "                                col.default_on_null,\n",
      "                (\n",
      "                    SELECT id.generation_type || ',' || id.IDENTITY_OPTIONS\n",
      "                    FROM ALL_TAB_IDENTITY_COLS id\n",
      "                    WHERE col.table_name = id.table_name\n",
      "                    AND col.column_name = id.column_name\n",
      "                    AND col.owner = id.owner\n",
      "                ) AS identity_options\n",
      "            FROM all_tab_cols col\n",
      "            LEFT JOIN all_col_comments com\n",
      "            ON col.table_name = com.table_name\n",
      "            AND col.column_name = com.column_name\n",
      "            AND col.owner = com.owner\n",
      "            WHERE col.table_name = :table_name\n",
      "            AND col.hidden_column = 'NO'\n",
      "         AND col.owner = :owner  ORDER BY col.column_id\n",
      "2023-07-07 14:08:19,439 INFO sqlalchemy.engine.Engine [generated in 0.00051s] {'table_name': 'JOGADOR', 'owner': 'D2373891'}\n",
      "2023-07-07 14:08:19,972 INFO sqlalchemy.engine.Engine SELECT\n",
      "ac.constraint_name,\n",
      "ac.constraint_type,\n",
      "loc.column_name AS local_column,\n",
      "rem.table_name AS remote_table,\n",
      "rem.column_name AS remote_column,\n",
      "rem.owner AS remote_owner,\n",
      "loc.position as loc_pos,\n",
      "rem.position as rem_pos,\n",
      "ac.search_condition,\n",
      "ac.delete_rule\n",
      "FROM all_constraints ac,\n",
      "all_cons_columns loc,\n",
      "all_cons_columns rem\n",
      "WHERE ac.table_name = :table_name\n",
      "AND ac.constraint_type IN ('R','P', 'U', 'C')\n",
      "AND ac.owner = :owner\n",
      "AND ac.owner = loc.owner\n",
      "AND ac.constraint_name = loc.constraint_name\n",
      "AND ac.r_owner = rem.owner(+)\n",
      "AND ac.r_constraint_name = rem.constraint_name(+)\n",
      "AND (rem.position IS NULL or loc.position=rem.position)\n",
      "ORDER BY ac.constraint_name, loc.position\n",
      "2023-07-07 14:08:19,972 INFO sqlalchemy.engine.Engine [generated in 0.00054s] {'table_name': 'JOGADOR', 'owner': 'D2373891'}\n",
      "2023-07-07 14:08:24,395 INFO sqlalchemy.engine.Engine SELECT table_name, compression, compress_for FROM ALL_TABLES WHERE table_name = :table_name AND owner = :owner \n",
      "2023-07-07 14:08:24,396 INFO sqlalchemy.engine.Engine [cached since 5.26s ago] {'table_name': 'TIME', 'owner': 'D2373891'}\n",
      "2023-07-07 14:08:24,537 INFO sqlalchemy.engine.Engine \n",
      "            SELECT\n",
      "                col.column_name,\n",
      "                col.data_type,\n",
      "                col.char_length,\n",
      "                col.data_precision,\n",
      "                col.data_scale,\n",
      "                col.nullable,\n",
      "                col.data_default,\n",
      "                com.comments,\n",
      "                col.virtual_column,\n",
      "                                col.default_on_null,\n",
      "                (\n",
      "                    SELECT id.generation_type || ',' || id.IDENTITY_OPTIONS\n",
      "                    FROM ALL_TAB_IDENTITY_COLS id\n",
      "                    WHERE col.table_name = id.table_name\n",
      "                    AND col.column_name = id.column_name\n",
      "                    AND col.owner = id.owner\n",
      "                ) AS identity_options\n",
      "            FROM all_tab_cols col\n",
      "            LEFT JOIN all_col_comments com\n",
      "            ON col.table_name = com.table_name\n",
      "            AND col.column_name = com.column_name\n",
      "            AND col.owner = com.owner\n",
      "            WHERE col.table_name = :table_name\n",
      "            AND col.hidden_column = 'NO'\n",
      "         AND col.owner = :owner  ORDER BY col.column_id\n",
      "2023-07-07 14:08:24,538 INFO sqlalchemy.engine.Engine [cached since 5.1s ago] {'table_name': 'TIME', 'owner': 'D2373891'}\n",
      "2023-07-07 14:08:24,949 INFO sqlalchemy.engine.Engine SELECT\n",
      "ac.constraint_name,\n",
      "ac.constraint_type,\n",
      "loc.column_name AS local_column,\n",
      "rem.table_name AS remote_table,\n",
      "rem.column_name AS remote_column,\n",
      "rem.owner AS remote_owner,\n",
      "loc.position as loc_pos,\n",
      "rem.position as rem_pos,\n",
      "ac.search_condition,\n",
      "ac.delete_rule\n",
      "FROM all_constraints ac,\n",
      "all_cons_columns loc,\n",
      "all_cons_columns rem\n",
      "WHERE ac.table_name = :table_name\n",
      "AND ac.constraint_type IN ('R','P', 'U', 'C')\n",
      "AND ac.owner = :owner\n",
      "AND ac.owner = loc.owner\n",
      "AND ac.constraint_name = loc.constraint_name\n",
      "AND ac.r_owner = rem.owner(+)\n",
      "AND ac.r_constraint_name = rem.constraint_name(+)\n",
      "AND (rem.position IS NULL or loc.position=rem.position)\n",
      "ORDER BY ac.constraint_name, loc.position\n",
      "2023-07-07 14:08:24,950 INFO sqlalchemy.engine.Engine [cached since 4.978s ago] {'table_name': 'TIME', 'owner': 'D2373891'}\n",
      "2023-07-07 14:08:27,606 INFO sqlalchemy.engine.Engine SELECT a.index_name, a.column_name, \n",
      "b.index_type, b.uniqueness, b.compression, b.prefix_length \n",
      "FROM ALL_IND_COLUMNS a, \n",
      "ALL_INDEXES b \n",
      "WHERE \n",
      "a.index_name = b.index_name \n",
      "AND a.table_owner = b.table_owner \n",
      "AND a.table_name = b.table_name \n",
      "AND a.table_name = :table_name AND a.table_owner = :schema ORDER BY a.index_name, a.column_position\n",
      "2023-07-07 14:08:27,607 INFO sqlalchemy.engine.Engine [generated in 0.00073s] {'table_name': 'TIME', 'schema': 'D2373891'}\n",
      "2023-07-07 14:08:27,696 INFO sqlalchemy.engine.Engine SELECT a.index_name, a.column_name, \n",
      "b.index_type, b.uniqueness, b.compression, b.prefix_length \n",
      "FROM ALL_IND_COLUMNS a, \n",
      "ALL_INDEXES b \n",
      "WHERE \n",
      "a.index_name = b.index_name \n",
      "AND a.table_owner = b.table_owner \n",
      "AND a.table_name = b.table_name \n",
      "AND a.table_name = :table_name AND a.table_owner = :schema ORDER BY a.index_name, a.column_position\n",
      "2023-07-07 14:08:27,697 INFO sqlalchemy.engine.Engine [cached since 0.09098s ago] {'table_name': 'TIME', 'schema': 'D2373891'}\n",
      "2023-07-07 14:08:27,698 INFO sqlalchemy.engine.Engine SELECT\n",
      "ac.constraint_name,\n",
      "ac.constraint_type,\n",
      "loc.column_name AS local_column,\n",
      "rem.table_name AS remote_table,\n",
      "rem.column_name AS remote_column,\n",
      "rem.owner AS remote_owner,\n",
      "loc.position as loc_pos,\n",
      "rem.position as rem_pos,\n",
      "ac.search_condition,\n",
      "ac.delete_rule\n",
      "FROM all_constraints ac,\n",
      "all_cons_columns loc,\n",
      "all_cons_columns rem\n",
      "WHERE ac.table_name = :table_name\n",
      "AND ac.constraint_type IN ('R','P', 'U', 'C')\n",
      "AND ac.owner = :owner\n",
      "AND ac.owner = loc.owner\n",
      "AND ac.constraint_name = loc.constraint_name\n",
      "AND ac.r_owner = rem.owner(+)\n",
      "AND ac.r_constraint_name = rem.constraint_name(+)\n",
      "AND (rem.position IS NULL or loc.position=rem.position)\n",
      "ORDER BY ac.constraint_name, loc.position\n",
      "2023-07-07 14:08:27,699 INFO sqlalchemy.engine.Engine [cached since 7.727s ago] {'table_name': 'TIME', 'owner': 'D2373891'}\n",
      "2023-07-07 14:08:29,107 INFO sqlalchemy.engine.Engine \n",
      "            SELECT comments\n",
      "            FROM all_tab_comments\n",
      "            WHERE table_name = :table_name AND owner = :schema_name\n",
      "        \n",
      "2023-07-07 14:08:29,107 INFO sqlalchemy.engine.Engine [generated in 0.00055s] {'table_name': 'TIME', 'schema_name': 'D2373891'}\n",
      "2023-07-07 14:08:29,426 INFO sqlalchemy.engine.Engine SELECT a.index_name, a.column_name, \n",
      "b.index_type, b.uniqueness, b.compression, b.prefix_length \n",
      "FROM ALL_IND_COLUMNS a, \n",
      "ALL_INDEXES b \n",
      "WHERE \n",
      "a.index_name = b.index_name \n",
      "AND a.table_owner = b.table_owner \n",
      "AND a.table_name = b.table_name \n",
      "AND a.table_name = :table_name AND a.table_owner = :schema ORDER BY a.index_name, a.column_position\n",
      "2023-07-07 14:08:29,427 INFO sqlalchemy.engine.Engine [cached since 1.822s ago] {'table_name': 'JOGADOR', 'schema': 'D2373891'}\n",
      "2023-07-07 14:08:29,503 INFO sqlalchemy.engine.Engine SELECT a.index_name, a.column_name, \n",
      "b.index_type, b.uniqueness, b.compression, b.prefix_length \n",
      "FROM ALL_IND_COLUMNS a, \n",
      "ALL_INDEXES b \n",
      "WHERE \n",
      "a.index_name = b.index_name \n",
      "AND a.table_owner = b.table_owner \n",
      "AND a.table_name = b.table_name \n",
      "AND a.table_name = :table_name AND a.table_owner = :schema ORDER BY a.index_name, a.column_position\n",
      "2023-07-07 14:08:29,504 INFO sqlalchemy.engine.Engine [cached since 1.897s ago] {'table_name': 'JOGADOR', 'schema': 'D2373891'}\n",
      "2023-07-07 14:08:29,511 INFO sqlalchemy.engine.Engine SELECT\n",
      "ac.constraint_name,\n",
      "ac.constraint_type,\n",
      "loc.column_name AS local_column,\n",
      "rem.table_name AS remote_table,\n",
      "rem.column_name AS remote_column,\n",
      "rem.owner AS remote_owner,\n",
      "loc.position as loc_pos,\n",
      "rem.position as rem_pos,\n",
      "ac.search_condition,\n",
      "ac.delete_rule\n",
      "FROM all_constraints ac,\n",
      "all_cons_columns loc,\n",
      "all_cons_columns rem\n",
      "WHERE ac.table_name = :table_name\n",
      "AND ac.constraint_type IN ('R','P', 'U', 'C')\n",
      "AND ac.owner = :owner\n",
      "AND ac.owner = loc.owner\n",
      "AND ac.constraint_name = loc.constraint_name\n",
      "AND ac.r_owner = rem.owner(+)\n",
      "AND ac.r_constraint_name = rem.constraint_name(+)\n",
      "AND (rem.position IS NULL or loc.position=rem.position)\n",
      "ORDER BY ac.constraint_name, loc.position\n"
     ]
    },
    {
     "name": "stdout",
     "output_type": "stream",
     "text": [
      "2023-07-07 14:08:29,513 INFO sqlalchemy.engine.Engine [cached since 9.54s ago] {'table_name': 'JOGADOR', 'owner': 'D2373891'}\n",
      "2023-07-07 14:08:29,518 INFO sqlalchemy.engine.Engine \n",
      "            SELECT comments\n",
      "            FROM all_tab_comments\n",
      "            WHERE table_name = :table_name AND owner = :schema_name\n",
      "        \n",
      "2023-07-07 14:08:29,518 INFO sqlalchemy.engine.Engine [cached since 0.4124s ago] {'table_name': 'JOGADOR', 'schema_name': 'D2373891'}\n"
     ]
    }
   ],
   "source": [
    "metadata = sqlalchemy.MetaData()\n",
    "jogador = sqlalchemy.Table('jogador', metadata, autoload_with=ora_engine)"
   ]
  },
  {
   "cell_type": "code",
   "execution_count": 45,
   "id": "75ea301c",
   "metadata": {
    "id": "75ea301c",
    "outputId": "1e6c074d-c21c-4afd-b9dc-5fa457c8f369"
   },
   "outputs": [
    {
     "name": "stdout",
     "output_type": "stream",
     "text": [
      "ImmutableColumnCollection(jogador.rg, jogador.nome, jogador.data_nascimento, jogador.naturalidade, jogador.time_atua)\n"
     ]
    }
   ],
   "source": [
    "# colunas\n",
    "print(jogador.columns)"
   ]
  },
  {
   "cell_type": "code",
   "execution_count": 47,
   "id": "adceb080",
   "metadata": {
    "id": "adceb080",
    "outputId": "f9e364b5-1956-4408-e7f0-a04d3581ce46"
   },
   "outputs": [
    {
     "name": "stdout",
     "output_type": "stream",
     "text": [
      "PrimaryKeyConstraint(Column('rg', VARCHAR(length=15), table=<jogador>, primary_key=True, nullable=False))\n",
      "\n",
      "ForeignKeyConstraint(<sqlalchemy.sql.base.DedupeColumnCollection object at 0x000001F3F1BA6A90>, None, name='fk_jogador', ondelete='SET NULL', link_to_name=True, table=Table('jogador', MetaData(), Column('rg', VARCHAR(length=15), table=<jogador>, primary_key=True, nullable=False), Column('nome', VARCHAR(length=40), table=<jogador>, nullable=False), Column('data_nascimento', DATE(), table=<jogador>), Column('naturalidade', VARCHAR(length=40), table=<jogador>), Column('time_atua', VARCHAR(length=40), ForeignKey('time.nome'), table=<jogador>), schema=None))\n",
      "\n"
     ]
    }
   ],
   "source": [
    "# restricoes de integridade\n",
    "for constr in jogador.constraints:\n",
    "    print(constr)\n",
    "    print()"
   ]
  },
  {
   "cell_type": "code",
   "execution_count": 48,
   "id": "22fc3dbf",
   "metadata": {
    "id": "22fc3dbf",
    "outputId": "1dfecb67-d0a9-4f3c-bf3a-3f13bd9cee7b"
   },
   "outputs": [
    {
     "name": "stdout",
     "output_type": "stream",
     "text": [
      "ForeignKey('time.nome')\n",
      "\n"
     ]
    }
   ],
   "source": [
    "# restricoes de integridade referencial (chaves estrangeiras)\n",
    "for constr in jogador.foreign_keys:\n",
    "    print(constr)\n",
    "    print()"
   ]
  },
  {
   "cell_type": "markdown",
   "id": "e80e705b",
   "metadata": {
    "id": "e80e705b"
   },
   "source": [
    "* A partir do meta objeto, é possível fazer requisições que montam SQL"
   ]
  },
  {
   "cell_type": "code",
   "execution_count": 49,
   "id": "b1bae4ec",
   "metadata": {
    "id": "b1bae4ec"
   },
   "outputs": [],
   "source": [
    "insert_jogador = jogador.insert()"
   ]
  },
  {
   "cell_type": "code",
   "execution_count": 50,
   "id": "c6a6a581",
   "metadata": {
    "id": "c6a6a581",
    "outputId": "be6d8252-e918-46d2-e20c-0be161e1fb15"
   },
   "outputs": [
    {
     "name": "stdout",
     "output_type": "stream",
     "text": [
      "INSERT INTO jogador (rg, nome, data_nascimento, naturalidade, time_atua) VALUES (:rg, :nome, :data_nascimento, :naturalidade, :time_atua)\n"
     ]
    }
   ],
   "source": [
    "print(insert_jogador)"
   ]
  },
  {
   "cell_type": "code",
   "execution_count": 51,
   "id": "858b2594",
   "metadata": {
    "id": "858b2594"
   },
   "outputs": [],
   "source": [
    "update_jogador = jogador.update()"
   ]
  },
  {
   "cell_type": "code",
   "execution_count": 52,
   "id": "15b6daad",
   "metadata": {
    "id": "15b6daad",
    "outputId": "29ca7c79-4d93-41be-873b-98f33ecb099a"
   },
   "outputs": [
    {
     "name": "stdout",
     "output_type": "stream",
     "text": [
      "UPDATE jogador SET rg=:rg, nome=:nome, data_nascimento=:data_nascimento, naturalidade=:naturalidade, time_atua=:time_atua\n"
     ]
    }
   ],
   "source": [
    "print(update_jogador)"
   ]
  },
  {
   "cell_type": "code",
   "execution_count": 53,
   "id": "143a4a24",
   "metadata": {
    "id": "143a4a24"
   },
   "outputs": [],
   "source": [
    "delete_jogador = jogador.delete().where(jogador.c.time_atua=='Palmeiras')"
   ]
  },
  {
   "cell_type": "code",
   "execution_count": 56,
   "id": "051b65b9",
   "metadata": {
    "id": "051b65b9",
    "outputId": "c362012f-36a2-4f09-d7b4-d9702c36e084"
   },
   "outputs": [
    {
     "data": {
      "text/plain": [
       "{'time_atua_1': 'Palmeiras'}"
      ]
     },
     "execution_count": 56,
     "metadata": {},
     "output_type": "execute_result"
    }
   ],
   "source": [
    "# com o meta SQL delete_jogador preparado com um parametro fornecido, faz-se a preparacao\n",
    "delete_jogador.compile().params"
   ]
  },
  {
   "cell_type": "code",
   "execution_count": 57,
   "id": "624ac394",
   "metadata": {
    "id": "624ac394",
    "outputId": "98962991-65ff-427b-e40c-57bebcd9a41c"
   },
   "outputs": [
    {
     "name": "stdout",
     "output_type": "stream",
     "text": [
      "2023-07-07 14:11:52,219 INFO sqlalchemy.engine.Engine DELETE FROM jogador WHERE jogador.time_atua = :time_atua_1\n",
      "2023-07-07 14:11:52,220 INFO sqlalchemy.engine.Engine [cached since 103.3s ago] {'time_atua_1': 'Palmeiras'}\n",
      "2023-07-07 14:11:52,221 INFO sqlalchemy.engine.Engine COMMIT\n"
     ]
    }
   ],
   "source": [
    "# depois, a execucao\n",
    "result = ora_engine.execute(delete_jogador)"
   ]
  },
  {
   "cell_type": "markdown",
   "id": "9176cafe",
   "metadata": {
    "id": "9176cafe"
   },
   "source": [
    "* Para fazer a inserção, é necessário fornecer os valores que serão inseridos."
   ]
  },
  {
   "cell_type": "code",
   "execution_count": 58,
   "id": "53672567",
   "metadata": {
    "id": "53672567"
   },
   "outputs": [],
   "source": [
    "import datetime"
   ]
  },
  {
   "cell_type": "code",
   "execution_count": 59,
   "id": "f42e00fc",
   "metadata": {
    "id": "f42e00fc"
   },
   "outputs": [],
   "source": [
    "insert_jogador = jogador.insert().values(rg='67891', nome='Edilson', data_nascimento=datetime.date(1980,9,20),\n",
    "                                         naturalidade='Peruano',time_atua='Palmeiras')"
   ]
  },
  {
   "cell_type": "code",
   "execution_count": 60,
   "id": "950fd8a4",
   "metadata": {
    "id": "950fd8a4",
    "outputId": "9e64dfd5-c7fd-4fb0-a672-f61fa5c98c6d"
   },
   "outputs": [
    {
     "name": "stdout",
     "output_type": "stream",
     "text": [
      "INSERT INTO jogador (rg, nome, data_nascimento, naturalidade, time_atua) VALUES (:rg, :nome, :data_nascimento, :naturalidade, :time_atua)\n"
     ]
    }
   ],
   "source": [
    "print(insert_jogador)"
   ]
  },
  {
   "cell_type": "markdown",
   "id": "96e66c60",
   "metadata": {
    "id": "96e66c60"
   },
   "source": [
    "* Os quais são processados com o comando `compile()`."
   ]
  },
  {
   "cell_type": "code",
   "execution_count": 61,
   "id": "5cb3bd4f",
   "metadata": {
    "id": "5cb3bd4f",
    "outputId": "89784917-090a-4cda-8171-f8ef7b71df2e"
   },
   "outputs": [
    {
     "data": {
      "text/plain": [
       "{'rg': '67891',\n",
       " 'nome': 'Edilson',\n",
       " 'data_nascimento': datetime.date(1980, 9, 20),\n",
       " 'naturalidade': 'Peruano',\n",
       " 'time_atua': 'Palmeiras'}"
      ]
     },
     "execution_count": 61,
     "metadata": {},
     "output_type": "execute_result"
    }
   ],
   "source": [
    "insert_jogador.compile().params"
   ]
  },
  {
   "cell_type": "markdown",
   "id": "cde2f7f1",
   "metadata": {
    "id": "cde2f7f1"
   },
   "source": [
    "* E, finalmente, a execução."
   ]
  },
  {
   "cell_type": "code",
   "execution_count": 62,
   "id": "0c01de8b",
   "metadata": {
    "id": "0c01de8b",
    "outputId": "a141a22c-84b3-4e15-c1bb-716c8d792552"
   },
   "outputs": [
    {
     "name": "stdout",
     "output_type": "stream",
     "text": [
      "2023-07-07 14:12:21,699 INFO sqlalchemy.engine.Engine INSERT INTO jogador (rg, nome, data_nascimento, naturalidade, time_atua) VALUES (:rg, :nome, :data_nascimento, :naturalidade, :time_atua)\n",
      "2023-07-07 14:12:21,700 INFO sqlalchemy.engine.Engine [generated in 0.00071s] {'rg': '67891', 'nome': 'Edilson', 'data_nascimento': datetime.date(1980, 9, 20), 'naturalidade': 'Peruano', 'time_atua': 'Palmeiras'}\n",
      "2023-07-07 14:12:21,703 INFO sqlalchemy.engine.Engine COMMIT\n"
     ]
    }
   ],
   "source": [
    "result = ora_engine.execute(insert_jogador)"
   ]
  },
  {
   "cell_type": "markdown",
   "id": "2b1cfb39",
   "metadata": {
    "id": "2b1cfb39"
   },
   "source": [
    "* O resultado mostra meta informações a respeito da operação."
   ]
  },
  {
   "cell_type": "code",
   "execution_count": 63,
   "id": "0f809f7f",
   "metadata": {
    "id": "0f809f7f",
    "outputId": "db62efb6-350a-4703-a1ea-661ae4b7f6dd"
   },
   "outputs": [
    {
     "data": {
      "text/plain": [
       "('67891',)"
      ]
     },
     "execution_count": 63,
     "metadata": {},
     "output_type": "execute_result"
    }
   ],
   "source": [
    "result.inserted_primary_key"
   ]
  },
  {
   "cell_type": "code",
   "execution_count": 64,
   "id": "fab94825",
   "metadata": {
    "id": "fab94825"
   },
   "outputs": [],
   "source": [
    "conexao.commit()"
   ]
  },
  {
   "cell_type": "code",
   "execution_count": 65,
   "id": "c9bf5377",
   "metadata": {
    "id": "c9bf5377"
   },
   "outputs": [],
   "source": [
    "conexao.close()"
   ]
  },
  {
   "cell_type": "markdown",
   "id": "ef51f6c9",
   "metadata": {},
   "source": [
    "Neste notebook python, vimos como trazer dados do Oracle para a memoria, e manipulá-los com comandos python. Isto foi feito de 3 maneiras diferentes: com operacoes de fecth simples, com chunks de dados, e via SQLAlchemy.\n",
    "Em futuras aulas/licoes, e em suas atividades práticas, este conteúdo será util para se processar dados de sua própria base sem a necessidade de arquivos e importações intermeriários."
   ]
  },
  {
   "cell_type": "code",
   "execution_count": null,
   "id": "98c16008",
   "metadata": {},
   "outputs": [],
   "source": []
  }
 ],
 "metadata": {
  "colab": {
   "collapsed_sections": [
    "e26fbe67",
    "ff540527",
    "dcfe1981",
    "8dad2a20",
    "78ff7956"
   ],
   "name": "Curso01-Quinzena02-Aula14-WINDOWS.ipynb",
   "provenance": []
  },
  "kernelspec": {
   "display_name": "Python 3",
   "language": "python",
   "name": "python3"
  },
  "language_info": {
   "codemirror_mode": {
    "name": "ipython",
    "version": 3
   },
   "file_extension": ".py",
   "mimetype": "text/x-python",
   "name": "python",
   "nbconvert_exporter": "python",
   "pygments_lexer": "ipython3",
   "version": "3.8.8"
  }
 },
 "nbformat": 4,
 "nbformat_minor": 5
}
